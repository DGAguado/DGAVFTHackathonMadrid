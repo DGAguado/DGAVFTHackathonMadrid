{
 "cells": [
  {
   "cell_type": "code",
   "execution_count": 1,
   "id": "c74a6eed-86c1-4141-b5b4-37b32a9b4afc",
   "metadata": {},
   "outputs": [],
   "source": [
    "%matplotlib inline\n",
    "#from pylab import imshow\n",
    "#import matplotlib.pyplot as plt\n",
    "from IPython.display import display\n",
    "# Importing standard Qiskit libraries and configuring account\n",
    "from qiskit import QuantumRegister, ClassicalRegister, QuantumCircuit, execute, Aer, IBMQ\n",
    "from qiskit.compiler import transpile, assemble\n",
    "from qiskit.tools.jupyter import *\n",
    "from qiskit.visualization import *\n",
    "# Loading your IBM Q account(s)\n",
    "provider = IBMQ.load_account()"
   ]
  },
  {
   "cell_type": "code",
   "execution_count": 2,
   "id": "9960871b-ad7f-46ca-8a74-4ff891f55f45",
   "metadata": {},
   "outputs": [],
   "source": [
    "# Para multi_qbits, usaremos qasm simulator (más inmediato ver estados en histogramas)\n",
    "def proceed(quantum_circuit):\n",
    "    \n",
    "    # Simulator\n",
    "    simulator = Aer.get_backend('qasm_simulator')\n",
    "    \n",
    "    # Execution\n",
    "    result = execute(quantum_circuit,simulator,shots=1).result()\n",
    "    \n",
    "    # Assignation\n",
    "    results=result.get_counts(quantum_circuit)\n",
    "      \n",
    "    # Return\n",
    "    return results "
   ]
  },
  {
   "cell_type": "code",
   "execution_count": 3,
   "id": "0061bacd-89f2-4b00-a3e8-c28e92db9bf9",
   "metadata": {},
   "outputs": [],
   "source": [
    "def int_control(init=1,end=10,string=False):\n",
    "\n",
    "    while True:\n",
    "\n",
    "        try:\n",
    "            \n",
    "            if string:\n",
    "                var=int(input(string))\n",
    "            else:\n",
    "                var=int(input(\"\\nPlease introduce an int number: \")) \n",
    "\n",
    "            if var<init:\n",
    "\n",
    "                print(f\"The number needs to be higher or equal than {init}.\\n\")\n",
    "\n",
    "            elif var>end:\n",
    "\n",
    "                print(f\"The number needs to be lower or equal to {end}.\\n\")\n",
    "\n",
    "            else:\n",
    "\n",
    "                return var\n",
    "\n",
    "        except ValueError:\n",
    "\n",
    "            print(\"The given value is not valid.\\n\")"
   ]
  },
  {
   "cell_type": "code",
   "execution_count": 4,
   "id": "e4210877-f401-449d-abc2-cfef54675793",
   "metadata": {},
   "outputs": [],
   "source": [
    "def str_control(string=False):\n",
    "\n",
    "    while True:\n",
    "\n",
    "        try:\n",
    "            \n",
    "            if string:\n",
    "                var=input(string)\n",
    "            else:\n",
    "                var=input(\"\\nPlease introduce a name: \")\n",
    "\n",
    "            return var\n",
    "\n",
    "        except ValueError:\n",
    "\n",
    "            print(\"The given value is not valid.\\n\")"
   ]
  },
  {
   "cell_type": "code",
   "execution_count": 5,
   "id": "277b3bff-4b25-477c-abd9-764d424cf96c",
   "metadata": {},
   "outputs": [],
   "source": [
    "%run -i 'levels/2qubit.py'\n",
    "%run -i 'levels/3qubit.py'\n",
    "%run -i 'levels/4qubit.py'\n",
    "%run -i 'levels/5qubit.py'\n",
    "%run -i 'levels/6qubit.py'\n",
    "\n",
    "from IPython.display import clear_output\n",
    "\n",
    "# Este programa SOBREABUSA de imágenes...\n",
    "from IPython.display import Image\n",
    "PATH = \"images/\"\n",
    "\n",
    "# Wait times\n",
    "import time\n",
    "\n",
    "def battle(n,nlevels,clearS,playerName,score,battles):\n",
    "\n",
    "    # establishment of initial HP and MP\n",
    "    HP=4+4*(n-2)\n",
    "    HPMax=HP;\n",
    "    MP=3+3*(n-2)\n",
    "    MPMax=MP;\n",
    "\n",
    "    for stage in range(nlevels[n]): # número de stages\n",
    "        score_stage=0\n",
    "  \n",
    "        if n==2:\n",
    "            qcEn,battle=level1(stage+1)\n",
    "            if stage==6:\n",
    "                winCond='01'\n",
    "            else:\n",
    "                winCond='11'\n",
    "        if n==3:\n",
    "            qcEn,battle=level2(stage+1)\n",
    "            winCond='111'\n",
    "        if n==4:\n",
    "            qcEn,battle=level3(stage+1)\n",
    "            winCond=['1011', '1111']\n",
    "        if n==5:\n",
    "            qcEn,battle=level4(stage+1)\n",
    "            winCond='11111'\n",
    "        if n==6:\n",
    "            qcEn,battle=level5(stage+1)\n",
    "            winCond='111111'   \n",
    "        \n",
    "        # variables control\n",
    "        endBattle=0\n",
    "        endGame=0\n",
    "\n",
    "        while HP>0 and endBattle==0:\n",
    "\n",
    "            # PLAYER CHOICE concentra toda la interacción del jugador\n",
    "            qcPl=player_choice(qcEn,battle,n,MP,MPMax,HP,HPMax,playerName,winCond,stage)\n",
    "            qcT=qcPl+qcEn\n",
    "            \n",
    "            # limpiando la pantalla\n",
    "            clear_output(wait=True)\n",
    "            \n",
    "            # mostrar circuito\n",
    "            display(battle,qcT.draw())\n",
    "\n",
    "            #result, count, qsphere=proceed(qcT)\n",
    "            result=proceed(qcT)\n",
    "\n",
    "            # depuración\n",
    "            print(f\"Your result: {result}\")\n",
    "            print(f\"Expected result: {winCond}\")\n",
    "\n",
    "            # VICTORY COND\n",
    "            if (len(list([winCond]))==1 and winCond in result.keys()) or (len(winCond)==2 and (winCond[0] in result.keys() or winCond[1] in result.keys())):\n",
    "                # limpiando la pantalla\n",
    "                clear_output(wait=True)\n",
    "                # ¡Victoria!\n",
    "                battle=Image(filename = PATH + \"encuentro2_0.png\", width=300, height=300)\n",
    "                display(battle,qcT.draw())\n",
    "                print('You won!')\n",
    "                endBattle=1\n",
    "                # battles\n",
    "                battles=battles+1\n",
    "                \n",
    "                # EXCEPCIONES\n",
    "                if (len(winCond)==2 and '1111' in result.keys()) or winCond=='01':\n",
    "                    if HP+2*(n-1)>HPMax:\n",
    "                        HP=HPMax\n",
    "                    else:\n",
    "                        HP=HP+2*(n-1)\n",
    "                    score_stage=score_stage+100\n",
    "\n",
    "                # score\n",
    "                score_stage=score_stage+100\n",
    "                score=score+score_stage\n",
    "                if score<0:\n",
    "                    score=0\n",
    "            \n",
    "                if stage<nlevels[n]-1:\n",
    "                    if str_control(string='Proceed further? Y/N: ')=='N':\n",
    "                        endGame=1\n",
    "                        break\n",
    "                    elif n==5 and stage>=2: #JEFE FINAL\n",
    "                        print('Skeletor does not allow recovery!')\n",
    "                    else:\n",
    "                        if HP+1*(n-1)>HPMax:\n",
    "                            HP=HPMax\n",
    "                        else:\n",
    "                            HP=HP+1*(n-1)\n",
    "                        if MP+1*(n-1)>MPMax:\n",
    "                            MP=MPMax\n",
    "                        else:\n",
    "                            MP=MP+1*(n-1)\n",
    "                # VICTORIA DEFINITIVA\n",
    "                else:\n",
    "                    time.sleep(3)\n",
    "                    # limpiando la pantalla\n",
    "                    clear_output(wait=True)\n",
    "                    if n==5:\n",
    "                        print(\"You successfully conquered the Quanta Abyss!\")\n",
    "                        # VICTORY FLAG\n",
    "                        clearS=1\n",
    "                    elif n==6:\n",
    "                        print(\"You succesfully defeated the Shadow Demon in your revisit!\")\n",
    "                    else:\n",
    "                        print(\"You successfully cleared this floor of the Quanta Abyss!\")\n",
    "                    endGame=1\n",
    "                    break\n",
    "                    \n",
    "            # take a hit lol\n",
    "            else:\n",
    "                score_stage=score_stage-20\n",
    "                HP=HP-n\n",
    "                MP=MPMax\n",
    "                print(f'Enemies attack! You lost {n} HP...')\n",
    "                time.sleep(2)\n",
    "                if HP<=0:\n",
    "                    HP=0\n",
    "                else:\n",
    "                    if str_control(string='\\nKeep fighting? Y/N: ')=='Y':\n",
    "                        continue\n",
    "                    else:\n",
    "                        endBattle=1\n",
    "                        endGame=1\n",
    "        # DERROTA...\n",
    "        if HP<=0:\n",
    "            # limpiando la pantalla\n",
    "            clear_output(wait=True)\n",
    "            YOU_LOST=Image(filename = PATH + \"heman-smile.gif\", width=300, height=300)\n",
    "            display(YOU_LOST)\n",
    "            print('You were defeated...')\n",
    "            endBattle=1\n",
    "            endGame=1\n",
    "            break\n",
    "            \n",
    "        if endGame==1:\n",
    "            break\n",
    "            \n",
    "    # Fin del juego\n",
    "    print(\"Here are your results:\")\n",
    "    print(f\"Player: {playerName}\\nScore: {score}\\nBattles won: {battles}\")\n",
    "    \n",
    "    scoreboard=open(f\"scoreboard.txt\",\"a\")\n",
    "\n",
    "    scoreboard.write(playerName+','+str(score)+','+str(battles)+'\\n')\n",
    "    #np.genfromtxt('col.txt',dtype='str')\n",
    "    scoreboard.close()\n",
    "    \n",
    "    return endGame, clearS,score,battles\n"
   ]
  },
  {
   "cell_type": "code",
   "execution_count": 6,
   "id": "925aa274-4873-476a-9fa5-50a48f252a31",
   "metadata": {},
   "outputs": [],
   "source": [
    "# Menú del jugador\n",
    "def player_choice(qcEn,battle,n,MP,MPMax,HP,HPMax,playerName,winCond,stage):\n",
    "    # Circuit generation\n",
    "    q = QuantumRegister(n, 'q')\n",
    "    c = ClassicalRegister(n, 'c')\n",
    "    qc = QuantumCircuit(q, c)\n",
    "    \n",
    "    if n==2:\n",
    "        gates = {'X': [1,1], 'H': [2,1], 'Z': [3,1], 'END': [0,0]}\n",
    "    elif n==3 or n==4:\n",
    "        gates = {'X': [1,1], 'H': [2,1], 'Z': [3,1], 'Y': [4,1], 'S': [5,1], 'T': [6,1], 'CNOT': [7,2], 'END': [0,0]}       \n",
    "    elif n==5 or n==6:\n",
    "        gates = {'X': [1,1], 'H': [2,1], 'Z': [3,1], 'Y': [4,1], 'S': [5,1], 'T': [6,1], 'CNOT': [7,2], 'SWAP': [8,2], 'CCNOT': [9,3],'END': [0,0]}\n",
    "    \n",
    "    while True:\n",
    "        \n",
    "        # Para ir limpiando la pantalla\n",
    "        clear_output(wait=True)\n",
    "        print(f\"Stage: {stage}. Condición de victoria: {winCond}\\n\")\n",
    "\n",
    "        print(f\"Jugador: {playerName}\\n\")\n",
    "        print(f\"HP: {HP}/{HPMax}\")\n",
    "        print(f\"MP: {MP}/{MPMax}\")\n",
    "        \n",
    "        display(battle,(qc+qcEn).draw())\n",
    "        \n",
    "        print(f\"Available techniques:\\n{gates.keys()}\")\n",
    "\n",
    "        if MP==0:\n",
    "            if input(\"You already spent all of your MP. Proceed? Y/N:\")=='Y':\n",
    "                break\n",
    "            else:\n",
    "                qc = QuantumCircuit(q, c)\n",
    "                MP=MPMax\n",
    "                continue\n",
    "                \n",
    "        while True:\n",
    "            \n",
    "            select=str_control(string='\\nPlease write a gate included on the list above: ').upper()\n",
    "            if select in gates.keys():\n",
    "                break\n",
    "            else:\n",
    "                print('Invalid option.')\n",
    "\n",
    "        # qubit decision\n",
    "        if MP-gates[select][1]<0:\n",
    "            print(\"You do not have enough MP for this action.\\nPlease select another gate or end your turn.\")\n",
    "            continue\n",
    "        else:\n",
    "            MP=MP-gates[select][1]\n",
    "\n",
    "        if gates[select][0]==7:\n",
    "            while True:\n",
    "                control=int_control(init=0,end=n-1,string=f'\\nPlease select the controller (int variable between {0} and {n-1}): ')\n",
    "                target=int_control(init=0,end=n-1,string=f'\\nPlease select the target (int variable between {0} and {n-1}): ')\n",
    "                if control==target:\n",
    "                    print(\"No control or target can share the same qubit.\")\n",
    "                else:\n",
    "                    break\n",
    "            qc.cx(control,target)\n",
    "\n",
    "        elif gates[select][0]==8:\n",
    "            while True:\n",
    "                qubit1=int_control(init=0,end=n-1,string=f'\\nPlease select the first qubit (int variable between {0} and {n-1}): ')\n",
    "                qubit2=int_control(init=0,end=n-1,string=f'\\nPlease select the second qubit (int variable between {0} and {n-1}): ')\n",
    "                if control==target:\n",
    "                    print(\"Both qubits cannot be the same.\")\n",
    "                else:\n",
    "                    break\n",
    "            qc.swap(qubit1,qubit2)\n",
    "\n",
    "        elif gates[select][0]==9:\n",
    "            while True:\n",
    "                control1=int_control(init=0,end=n-1,string=f'\\nPlease select the first controller (int variable between {0} and {n-1}): ')\n",
    "                control2=int_control(init=0,end=n-1,string=f'\\nPlease select the second controller (int variable between {0} and {n-1}): ')\n",
    "                target=int_control(init=0,end=n-1,string=f'\\nPlease select the target (int variable between {0} and {n-1}): ')\n",
    "                if control1==target or control2==target or control1==5:\n",
    "                    print(\"No control or target can share the same qubit.\")\n",
    "                else:\n",
    "                    break\n",
    "            qc.ccx(control1,control2,target)\n",
    "\n",
    "        elif gates[select][0]==0:\n",
    "            break\n",
    "\n",
    "        else:\n",
    "            while True:\n",
    "                qubit=int_control(init=0,end=n-1,string=f'\\nPlease select the qubit (int variable between {0} and {n-1}): ')\n",
    "                break\n",
    "            if gates[select][0]==1:\n",
    "                qc.x(qubit)\n",
    "            elif gates[select][0]==2:\n",
    "                qc.h(qubit)\n",
    "            elif gates[select][0]==3:\n",
    "                qc.z(qubit)\n",
    "            elif gates[select][0]==4:\n",
    "                qc.y(qubit)\n",
    "            elif gates[select][0]==5:\n",
    "                qc.s(qubit)\n",
    "            elif gates[select][0]==6:\n",
    "                qc.t(qubit)\n",
    "                \n",
    "    return qc"
   ]
  },
  {
   "cell_type": "code",
   "execution_count": 7,
   "id": "56024915-2c48-442b-bb88-2c8a7c8e0076",
   "metadata": {},
   "outputs": [],
   "source": [
    "# MAIN GAME (PLEASE EXECUTE THIS CELL)\n",
    "def story(clearS,playerName,nlevels):\n",
    "    # score\n",
    "    score=0\n",
    "    # battles_won\n",
    "    battles=0\n",
    "    #print(Alguna introducción rápida...)\n",
    "    for n in range(2,5):\n",
    "        endGame,clearS,score,battles=battle(n,nlevels,clearS,playerName,score,battles)\n",
    "        if endGame==True:\n",
    "            break\n",
    "    return clearS\n",
    "\n",
    "def extra_stage(playerName,nlevels):\n",
    "    # score\n",
    "    score=0\n",
    "    # battles_won\n",
    "    battles=0\n",
    "    endGame,clearS,score,battles=battle(6,nlevels,clearS,playerName,score,battles)\n",
    "\n",
    "def QUANTA_ABYSS():\n",
    "    # INFORMACIÓN BÁSICA DEL JUEGO\n",
    "    modes={'story': 1, 'extra_stage': 2, 'scoreboard': 3, 'quit': 5}\n",
    "    clearS=0\n",
    "    # identifiador: 2 qubits -> level 1, 3 qubits -> level 2...\n",
    "    nlevels={2:7,3:5,4:1,5:5,6:1}\n",
    "           \n",
    "    # CUERPO\n",
    "    \n",
    "    print(\"Welcome to QuantaAbyss.\")\n",
    "    \n",
    "    # nombre del jugador\n",
    "    playerName=str_control()\n",
    "    \n",
    "    while True:\n",
    "        choice=str_control(string=\"Select a gamemode writing it below:\\n'story', 'extra_stage' (only after you beat the game), 'quit' to leave\")\n",
    "        if modes[choice]==2 and clearS==0:\n",
    "            print('First, you need to complete the story mode!')\n",
    "        elif choice in modes.keys():\n",
    "            break\n",
    "        else:\n",
    "            print('Invalid option.')\n",
    "    \n",
    "    if modes[choice]==1:\n",
    "        clearS=story(clearS,playerName,nlevels)\n",
    "    elif modes[choice]==2:\n",
    "        extra_stage(playerName,nlevels)"
   ]
  },
  {
   "cell_type": "code",
   "execution_count": 8,
   "id": "4d2748b1-9255-4a6b-98eb-b07ede6851c9",
   "metadata": {},
   "outputs": [
    {
     "data": {
      "image/png": "[encoded data removed]",
      "text/plain": [
       "<IPython.core.display.Image object>"
      ]
     },
     "metadata": {
      "image/png": {
       "height": 300,
       "width": 300
      }
     },
     "output_type": "display_data"
    },
    {
     "data": {
      "image/png": "[encoded data removed]",
      "text/plain": [
       "<Figure size 327.252x204.68 with 1 Axes>"
      ]
     },
     "metadata": {},
     "output_type": "display_data"
    },
    {
     "name": "stdout",
     "output_type": "stream",
     "text": [
      "Your result: {'10': 1}\n",
      "Expected result: 11\n",
      "Enemies attack! You lost 2 HP...\n"
     ]
    },
    {
     "name": "stdin",
     "output_type": "stream",
     "text": [
      "\n",
      "Keep fighting? Y/N:  N\n"
     ]
    },
    {
     "name": "stdout",
     "output_type": "stream",
     "text": [
      "Here are your results:\n",
      "Player: FDIOFJD\n",
      "Score: 0\n",
      "Battles won: 0\n"
     ]
    }
   ],
   "source": [
    "QUANTA_ABYSS()"
   ]
  },
  {
   "cell_type": "code",
   "execution_count": null,
   "id": "56e4d192-243d-4eb9-b981-ba377fd59812",
   "metadata": {},
   "outputs": [],
   "source": []
  }
 ],
 "metadata": {
  "kernelspec": {
   "display_name": "Qiskit v0.31.0 (ipykernel)",
   "language": "python",
   "name": "python3"
  },
  "language_info": {
   "codemirror_mode": {
    "name": "ipython",
    "version": 3
   },
   "file_extension": ".py",
   "mimetype": "text/x-python",
   "name": "python",
   "nbconvert_exporter": "python",
   "pygments_lexer": "ipython3",
   "version": "3.8.10"
  },
  "widgets": {
   "application/vnd.jupyter.widget-state+json": {
    "state": {
     "096cac3cfb304e6b96ab5bcee73118cb": {
      "model_module": "@jupyter-widgets/base",
      "model_module_version": "1.2.0",
      "model_name": "LayoutModel",
      "state": {}
     },
     "11e1ba834ed7481ca9e699b4fbe9a2f7": {
      "model_module": "@jupyter-widgets/controls",
      "model_module_version": "1.5.0",
      "model_name": "HTMLModel",
      "state": {
       "layout": "IPY_MODEL_9765f511de8a489fbeafb3236eeb0d6e",
       "style": "IPY_MODEL_5468fe53b42c41d48677f0ae7ab56eb8",
       "value": "<p style='font-family: IBM Plex Sans, Arial, Helvetica, sans-serif; font-size: 20px; font-weight: medium;'>Circuit Properties</p>"
      }
     },
     "1311ba0d60464ff28a7f5d1407a5fb93": {
      "model_module": "@jupyter-widgets/controls",
      "model_module_version": "1.5.0",
      "model_name": "HTMLModel",
      "state": {
       "layout": "IPY_MODEL_544461c4f14b4652b3a39b2f7cdb66b7",
       "style": "IPY_MODEL_3800238be74244d9b9cc72550d4fdf1d",
       "value": "<h5>Job ID</h5>"
      }
     },
     "1d6e9196500f40429d45f58b03bc9cfd": {
      "model_module": "@jupyter-widgets/base",
      "model_module_version": "1.2.0",
      "model_name": "LayoutModel",
      "state": {
       "grid_template_areas": "\n                                       \". . . . right \"\n                                        ",
       "grid_template_columns": "20% 20% 20% 20% 20%",
       "width": "100%"
      }
     },
     "248e1cce67e24fc889465751c8d2685c": {
      "model_module": "@jupyter-widgets/controls",
      "model_module_version": "1.5.0",
      "model_name": "ButtonStyleModel",
      "state": {}
     },
     "2bd42ed19e34464e831b0ba9771822c7": {
      "model_module": "@jupyter-widgets/controls",
      "model_module_version": "1.5.0",
      "model_name": "HTMLModel",
      "state": {
       "layout": "IPY_MODEL_863921de90c34bca98c14d14ebb72954",
       "style": "IPY_MODEL_bd822196c3e14e8db4b0883e1033cf97",
       "value": "<h5>Queue</h5>"
      }
     },
     "302634d462174ddaaf7e5de5e54da4b8": {
      "model_module": "@jupyter-widgets/base",
      "model_module_version": "1.2.0",
      "model_name": "LayoutModel",
      "state": {
       "width": "145px"
      }
     },
     "3800238be74244d9b9cc72550d4fdf1d": {
      "model_module": "@jupyter-widgets/controls",
      "model_module_version": "1.5.0",
      "model_name": "DescriptionStyleModel",
      "state": {
       "description_width": ""
      }
     },
     "457c3c91b1f8440cb4f0ad03decb34a1": {
      "model_module": "@jupyter-widgets/controls",
      "model_module_version": "1.5.0",
      "model_name": "DescriptionStyleModel",
      "state": {
       "description_width": ""
      }
     },
     "487b7db821354990ab99260c794b590f": {
      "model_module": "@jupyter-widgets/controls",
      "model_module_version": "1.5.0",
      "model_name": "HTMLModel",
      "state": {
       "layout": "IPY_MODEL_9327ecd3f8e24a39bcb2d13045faa405",
       "style": "IPY_MODEL_457c3c91b1f8440cb4f0ad03decb34a1",
       "value": "<h5>Status</h5>"
      }
     },
     "4d6b09c7a9c14e5fb6b87dae7c13d766": {
      "model_module": "@jupyter-widgets/controls",
      "model_module_version": "1.5.0",
      "model_name": "DescriptionStyleModel",
      "state": {
       "description_width": ""
      }
     },
     "544461c4f14b4652b3a39b2f7cdb66b7": {
      "model_module": "@jupyter-widgets/base",
      "model_module_version": "1.2.0",
      "model_name": "LayoutModel",
      "state": {
       "width": "190px"
      }
     },
     "5468fe53b42c41d48677f0ae7ab56eb8": {
      "model_module": "@jupyter-widgets/controls",
      "model_module_version": "1.5.0",
      "model_name": "DescriptionStyleModel",
      "state": {
       "description_width": ""
      }
     },
     "564d79ac61f1427296cc9600aedce590": {
      "model_module": "@jupyter-widgets/controls",
      "model_module_version": "1.5.0",
      "model_name": "HTMLModel",
      "state": {
       "layout": "IPY_MODEL_096cac3cfb304e6b96ab5bcee73118cb",
       "style": "IPY_MODEL_4d6b09c7a9c14e5fb6b87dae7c13d766",
       "value": "<h5>Message</h5>"
      }
     },
     "7bc3417f48a64474880212d06692e8f1": {
      "model_module": "@jupyter-widgets/controls",
      "model_module_version": "1.5.0",
      "model_name": "DescriptionStyleModel",
      "state": {
       "description_width": ""
      }
     },
     "82e31535c7124a429d9ca7d586544273": {
      "model_module": "@jupyter-widgets/base",
      "model_module_version": "1.2.0",
      "model_name": "LayoutModel",
      "state": {
       "grid_area": "right",
       "padding": "0px 0px 0px 0px",
       "width": "70px"
      }
     },
     "863921de90c34bca98c14d14ebb72954": {
      "model_module": "@jupyter-widgets/base",
      "model_module_version": "1.2.0",
      "model_name": "LayoutModel",
      "state": {
       "width": "70px"
      }
     },
     "8f3c853318f043d9802ee6b84bf1701a": {
      "model_module": "@jupyter-widgets/controls",
      "model_module_version": "1.5.0",
      "model_name": "HBoxModel",
      "state": {
       "children": [
        "IPY_MODEL_1311ba0d60464ff28a7f5d1407a5fb93",
        "IPY_MODEL_ad5d4c58e03340dbbb7ff6efe66a5231",
        "IPY_MODEL_487b7db821354990ab99260c794b590f",
        "IPY_MODEL_2bd42ed19e34464e831b0ba9771822c7",
        "IPY_MODEL_564d79ac61f1427296cc9600aedce590"
       ],
       "layout": "IPY_MODEL_958b8b7d17a64bd2902707501f879e7e"
      }
     },
     "9327ecd3f8e24a39bcb2d13045faa405": {
      "model_module": "@jupyter-widgets/base",
      "model_module_version": "1.2.0",
      "model_name": "LayoutModel",
      "state": {
       "width": "95px"
      }
     },
     "93fba469cfd548fea5035d24ac1332b5": {
      "model_module": "@jupyter-widgets/controls",
      "model_module_version": "1.5.0",
      "model_name": "GridBoxModel",
      "state": {
       "children": [
        "IPY_MODEL_b8b7376804ba442e982e7865f99a6ae0"
       ],
       "layout": "IPY_MODEL_1d6e9196500f40429d45f58b03bc9cfd"
      }
     },
     "958b8b7d17a64bd2902707501f879e7e": {
      "model_module": "@jupyter-widgets/base",
      "model_module_version": "1.2.0",
      "model_name": "LayoutModel",
      "state": {
       "margin": "0px 0px 0px 37px",
       "width": "600px"
      }
     },
     "9765f511de8a489fbeafb3236eeb0d6e": {
      "model_module": "@jupyter-widgets/base",
      "model_module_version": "1.2.0",
      "model_name": "LayoutModel",
      "state": {
       "margin": "0px 0px 10px 0px"
      }
     },
     "ad5d4c58e03340dbbb7ff6efe66a5231": {
      "model_module": "@jupyter-widgets/controls",
      "model_module_version": "1.5.0",
      "model_name": "HTMLModel",
      "state": {
       "layout": "IPY_MODEL_302634d462174ddaaf7e5de5e54da4b8",
       "style": "IPY_MODEL_7bc3417f48a64474880212d06692e8f1",
       "value": "<h5>Backend</h5>"
      }
     },
     "b8b7376804ba442e982e7865f99a6ae0": {
      "model_module": "@jupyter-widgets/controls",
      "model_module_version": "1.5.0",
      "model_name": "ButtonModel",
      "state": {
       "button_style": "primary",
       "description": "Clear",
       "layout": "IPY_MODEL_82e31535c7124a429d9ca7d586544273",
       "style": "IPY_MODEL_248e1cce67e24fc889465751c8d2685c"
      }
     },
     "bd822196c3e14e8db4b0883e1033cf97": {
      "model_module": "@jupyter-widgets/controls",
      "model_module_version": "1.5.0",
      "model_name": "DescriptionStyleModel",
      "state": {
       "description_width": ""
      }
     }
    },
    "version_major": 2,
    "version_minor": 0
   }
  }
 },
 "nbformat": 4,
 "nbformat_minor": 5
}
