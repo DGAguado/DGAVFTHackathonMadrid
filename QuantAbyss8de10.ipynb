{
 "cells": [
  {
   "cell_type": "code",
   "execution_count": 3,
   "id": "c74a6eed-86c1-4141-b5b4-37b32a9b4afc",
   "metadata": {},
   "outputs": [
    {
     "name": "stderr",
     "output_type": "stream",
     "text": [
      "ibmqfactory.load_account:WARNING:2021-10-23 18:38:46,203: Credentials are already in use. The existing account in the session will be replaced.\n"
     ]
    }
   ],
   "source": [
    "%matplotlib inline\n",
    "#from pylab import imshow\n",
    "#import matplotlib.pyplot as plt\n",
    "from IPython.display import display\n",
    "# Importing standard Qiskit libraries and configuring account\n",
    "from qiskit import QuantumRegister, ClassicalRegister, QuantumCircuit, execute, Aer, IBMQ\n",
    "from qiskit.compiler import transpile, assemble\n",
    "from qiskit.tools.jupyter import *\n",
    "from qiskit.visualization import *\n",
    "# Loading your IBM Q account(s)\n",
    "provider = IBMQ.load_account()"
   ]
  },
  {
   "cell_type": "code",
   "execution_count": 4,
   "id": "c5db1c69-abbb-4532-af71-ee8bd727cc30",
   "metadata": {},
   "outputs": [],
   "source": [
    "# Para multi_qbits, usaremos qasm simulator (más inmediato ver estados en histogramas)\n",
    "def proceed(quantum_circuit):\n",
    "    \n",
    "    # Simulator\n",
    "    statevector_simulator = Aer.get_backend('statevector_simulator')\n",
    "    \n",
    "    # Execution\n",
    "    result = execute(quantum_circuit,statevector_simulator).result()\n",
    "    \n",
    "    # Assignation\n",
    "    statevector_results=result.get_statevector(quantum_circuit)\n",
    "    #count=result.get_counts(quantum_circuit)\n",
    "    #print(count)\n",
    "    \n",
    "    # Draw QSphere\n",
    "    q_sphere=plot_state_qsphere(statevector_results)\n",
    "    \n",
    "    # Return\n",
    "    return statevector_results#, count, q_sphere"
   ]
  },
  {
   "cell_type": "code",
   "execution_count": 5,
   "id": "eae09812-e2bc-4bd9-9902-62331f55937f",
   "metadata": {},
   "outputs": [],
   "source": [
    "# Para multi_qbits, usaremos qasm simulator (más inmediato ver estados en histogramas)\n",
    "def proceed_m(quantum_circuit):\n",
    "    \n",
    "    # Simulator\n",
    "    simulator = Aer.get_backend('qasm_simulator')\n",
    "    \n",
    "    # Execution\n",
    "    result = execute(quantum_circuit,simulator,shots=1).result()\n",
    "    \n",
    "    # Assignation\n",
    "    results=result.get_counts(quantum_circuit)\n",
    "    \n",
    "    \n",
    "    # Return\n",
    "    print(results)\n",
    "    print(results.keys())\n",
    "    return results "
   ]
  },
  {
   "cell_type": "code",
   "execution_count": 6,
   "id": "4458c269-7294-45ee-990b-ecce0e015891",
   "metadata": {},
   "outputs": [],
   "source": [
    "def int_control(init=1,end=10):\n",
    "\n",
    "    while True:\n",
    "\n",
    "        try:\n",
    "\n",
    "            var=int(input(\"\\nPlease introduce an int number: \"))\n",
    "\n",
    "            if var<init:\n",
    "\n",
    "                print(f\"The number needs to be higher or equal than {init}.\\n\")\n",
    "\n",
    "            elif var>end:\n",
    "\n",
    "                print(f\"The number needs to be lower or equal to {end}.\\n\")\n",
    "\n",
    "            else:\n",
    "\n",
    "                return var\n",
    "\n",
    "        except ValueError:\n",
    "\n",
    "            print(\"The given value is not valid.\\n\")"
   ]
  },
  {
   "cell_type": "code",
   "execution_count": 7,
   "id": "a9448f39-4e7b-44e5-8f97-0d61c9a5029a",
   "metadata": {},
   "outputs": [],
   "source": [
    "def str_control():\n",
    "\n",
    "    while True:\n",
    "\n",
    "        try:\n",
    "\n",
    "            var=input(\"\\nPlease introduce a name: \")\n",
    "\n",
    "            return var\n",
    "\n",
    "        except ValueError:\n",
    "\n",
    "            print(\"The given value is not valid.\\n\")"
   ]
  },
  {
   "cell_type": "code",
   "execution_count": 8,
   "id": "7b0ef080-3b43-4bfa-8d84-d6fb74b07754",
   "metadata": {},
   "outputs": [],
   "source": [
    "# Menú del jugador\n",
    "def player_choice(qcEn,n,MP,MPMax):\n",
    "    # Circuit generation\n",
    "    q = QuantumRegister(n, 'q')\n",
    "    c = ClassicalRegister(n, 'c')\n",
    "    qc = QuantumCircuit(q, c)\n",
    "    \n",
    "    if n==2:\n",
    "        gates = {'X': [1,1], 'H': [2,1], 'Z': [3,1], 'END': [0,0]}\n",
    "    elif n==3:\n",
    "        gates = {'X': [1,1], 'H': [2,1], 'Z': [3,1], 'S': [4,1], 'T': [5,1], 'CNOT': [6,2], 'END': [0,0]}\n",
    "    elif n==5:\n",
    "        gates = {'X': [1,1], 'H': [2,1], 'Z': [3,1], 'S': [4,1], 'T': [5,1], 'CNOT': [6,2], 'SWAP': [7,2], 'CCNOT': [10,3],'END': [0,0]}\n",
    "    \n",
    "    while True:\n",
    "        \n",
    "        print(f\"MP: {MP}/{MPMax}\")\n",
    "        \n",
    "        display((qc+qcEn).draw())\n",
    "        \n",
    "        print(f\"Técnicas disponibles:\\n{gates.keys()}\")\n",
    "\n",
    "        if MP==0:\n",
    "            if input(\"Ya has gastado todos tus MP. ¿Proceder? Y/N:\")=='Y':\n",
    "                break\n",
    "            else:\n",
    "                qc = QuantumCircuit(q, c)\n",
    "                MP=MPMax\n",
    "                continue\n",
    "        select=str_control().upper()\n",
    "\n",
    "        # qubit decision\n",
    "        if MP-gates[select][1]<0:\n",
    "            print(\"You do not have enough MP for this action.\\nPlease select another gate or end your turn.\")\n",
    "            continue\n",
    "        else:\n",
    "            MP=MP-gates[select][1]\n",
    "\n",
    "        if gates[select][0]==6:\n",
    "            while True:\n",
    "                control=int_control(init=0,end=n-1)\n",
    "                target=int_control(init=0,end=n-1)\n",
    "                if control==target:\n",
    "                    print(\"No control and target cannot be the same qubit.\")\n",
    "                else:\n",
    "                    break\n",
    "            qc.cx(control,target)\n",
    "\n",
    "        elif gates[select][0]==7:\n",
    "            while True:\n",
    "                qubit1=int_control(init=0,end=n-1)\n",
    "                qubit2=int_control(init=0,end=n-1)\n",
    "                if control==target:\n",
    "                    print(\"Both qubits cannot be the same.\")\n",
    "                else:\n",
    "                    break\n",
    "            qc.swap(qubit1,qubit2)\n",
    "\n",
    "        elif gates[select][0]==10:\n",
    "            while True:\n",
    "                control1=int_control(init=0,end=n-1)\n",
    "                control2=int_control(init=0,end=n-1)\n",
    "                target=int_control(init=0,end=n-1)\n",
    "                if control1==target or control2==target or control1==5:\n",
    "                    print(\"No control and target cannot be the same qubit.\")\n",
    "                else:\n",
    "                    break\n",
    "            qc.ccx(control1,control2,target)\n",
    "\n",
    "        elif gates[select][0]==0:\n",
    "            break\n",
    "\n",
    "        else:\n",
    "            while True:\n",
    "                qubit=int_control(init=0,end=n-1)\n",
    "                break\n",
    "            if gates[select][0]==1:\n",
    "                qc.x(qubit)\n",
    "            elif gates[select][0]==2:\n",
    "                qc.h(qubit)\n",
    "            elif gates[select][0]==3:\n",
    "                qc.z(qubit)\n",
    "            elif gates[select][0]==4:\n",
    "                qc.s(qubit)\n",
    "            elif gates[select][0]==5:\n",
    "                qc.t(qubit)\n",
    "    \n",
    "    return qc"
   ]
  },
  {
   "cell_type": "code",
   "execution_count": 9,
   "id": "5dede94d-a2d8-4900-acd3-41a484a75843",
   "metadata": {},
   "outputs": [],
   "source": [
    "import numpy as np\n",
    "import math\n",
    "\n",
    "def WIN(n):\n",
    "    winCond=np.zeros(int(math.pow(2,n)),dtype=complex)\n",
    "    winCond[-1]=1.0\n",
    "    return winCond"
   ]
  },
  {
   "cell_type": "code",
   "execution_count": 10,
   "id": "b041a44e-3795-45b5-9c46-d2436a5cd618",
   "metadata": {},
   "outputs": [],
   "source": [
    "def level1_1():\n",
    "\n",
    "    qreg_q = QuantumRegister(2, 'q')\n",
    "    creg_c = ClassicalRegister(2, 'c')\n",
    "    circuit = QuantumCircuit(qreg_q, creg_c)\n",
    "\n",
    "    circuit.barrier(qreg_q[0])\n",
    "    circuit.barrier(qreg_q[1])\n",
    "    circuit.x(qreg_q[0])\n",
    "    circuit.measure(qreg_q[0], creg_c[0])\n",
    "    circuit.measure(qreg_q[1], creg_c[1])\n",
    "    \n",
    "    return circuit\n",
    "\n",
    "def level1_2():\n",
    "    \n",
    "    qreg_q = QuantumRegister(2, 'q')\n",
    "    creg_c = ClassicalRegister(2, 'c')\n",
    "    circuit = QuantumCircuit(qreg_q, creg_c)\n",
    "\n",
    "    circuit.barrier(qreg_q[0])\n",
    "    circuit.barrier(qreg_q[1])\n",
    "    circuit.measure(qreg_q[0], creg_c[0])\n",
    "    circuit.measure(qreg_q[1], creg_c[1])\n",
    "    \n",
    "    return circuit\n",
    "\n",
    "def level1_3():\n",
    "\n",
    "    qreg_q = QuantumRegister(2, 'q')\n",
    "    creg_c = ClassicalRegister(2, 'c')\n",
    "    circuit = QuantumCircuit(qreg_q, creg_c)\n",
    "\n",
    "    circuit.barrier(qreg_q[0])\n",
    "    circuit.barrier(qreg_q[1])\n",
    "    circuit.x(qreg_q[1])\n",
    "    circuit.measure(qreg_q[0], creg_c[0])\n",
    "    circuit.z(qreg_q[1])\n",
    "    circuit.measure(qreg_q[1], creg_c[1])\n",
    "    \n",
    "    return circuit\n",
    "\n",
    "def level1_4():\n",
    "\n",
    "    qreg_q = QuantumRegister(2, 'q')\n",
    "    creg_c = ClassicalRegister(2, 'c')\n",
    "    circuit = QuantumCircuit(qreg_q, creg_c)\n",
    "\n",
    "    circuit.barrier(qreg_q[0])\n",
    "    circuit.barrier(qreg_q[1])\n",
    "    circuit.h(qreg_q[0])\n",
    "    circuit.x(qreg_q[0])\n",
    "    circuit.x(qreg_q[1])\n",
    "    circuit.measure(qreg_q[0], creg_c[0])\n",
    "    circuit.measure(qreg_q[1], creg_c[1])\n",
    "    \n",
    "    return circuit\n",
    "\n",
    "def level1_5():\n",
    "\n",
    "    qreg_q = QuantumRegister(2, 'q')\n",
    "    creg_c = ClassicalRegister(2, 'c')\n",
    "    circuit = QuantumCircuit(qreg_q, creg_c)\n",
    "\n",
    "    circuit.barrier(qreg_q[1])\n",
    "    circuit.barrier(qreg_q[0])\n",
    "    circuit.cx(qreg_q[0], qreg_q[1])\n",
    "    circuit.measure(qreg_q[1], creg_c[1])\n",
    "    \n",
    "    return circuit\n",
    "\n",
    "def level1_6():\n",
    "\n",
    "    qreg_q = QuantumRegister(2, 'q')\n",
    "    creg_c = ClassicalRegister(2, 'c')\n",
    "    circuit = QuantumCircuit(qreg_q, creg_c)\n",
    "\n",
    "    circuit.barrier(qreg_q[1])\n",
    "    circuit.barrier(qreg_q[0])\n",
    "    circuit.swap(qreg_q[0], qreg_q[1])\n",
    "    circuit.cx(qreg_q[0], qreg_q[1])\n",
    "    circuit.measure(qreg_q[1], creg_c[1])\n",
    "    \n",
    "    return circuit\n",
    "\n",
    "\n",
    "def level1(i):\n",
    "    \n",
    "    if i==1:\n",
    "        circuit=level1_1()\n",
    "        \n",
    "    elif i==2:\n",
    "        circuit=level1_2()\n",
    "        \n",
    "    elif i==3:\n",
    "        circuit=level1_3()\n",
    "        \n",
    "    elif i==4:\n",
    "        circuit=level1_4()\n",
    "        \n",
    "    elif i==5:\n",
    "        circuit=level1_5()\n",
    "        \n",
    "    elif i==6:\n",
    "        circuit=level1_6()\n",
    "        \n",
    "    return circuit"
   ]
  },
  {
   "cell_type": "code",
   "execution_count": 11,
   "id": "1c6c1f7d-7c2a-429d-bff8-865c2bc38125",
   "metadata": {},
   "outputs": [],
   "source": [
    "# El código de verdad :D\n",
    "\n",
    "from IPython.display import clear_output\n",
    "\n",
    "def battle():\n",
    "\n",
    "    # identifiador: 2 qubits -> level 1, 3 qubits -> level 2...\n",
    "    nlevels={2:1,3:2,5:3}\n",
    "\n",
    "    # nombre del jugador\n",
    "    playerName=str_control()\n",
    "\n",
    "    # establishment of initial HP and MP\n",
    "    HP=int(input(\"\\nInitial HP?: \"))\n",
    "    HPMax=HP;\n",
    "    MP=int(input(\"\\nInitial MP?: \"))\n",
    "    MPMax=MP;\n",
    "\n",
    "    # score\n",
    "    score=0\n",
    "    \n",
    "    # battles_won\n",
    "    battles=0\n",
    "\n",
    "    for stage in range(6): # número de stages\n",
    "        \n",
    "        score_stage=0\n",
    "\n",
    "        #if stage==2:\n",
    "        #    n=3;\n",
    "        #else:\n",
    "        #    n=2;\n",
    "        \n",
    "        n=2;\n",
    "        \n",
    "        # stages\n",
    "        #if stage==0:\n",
    "        #    qcEn.x(0)\n",
    "        #    qcEn.measure(q,c)\n",
    "\n",
    "        #if stage==1:\n",
    "        #    qcEn.x(1)\n",
    "        #    qcEn.measure(q,c)\n",
    "        \n",
    "        qcEn=level1(stage+1)\n",
    "        display(qcEn.draw())\n",
    "\n",
    "        # Condición de victoria\n",
    "        winCond=WIN(n)\n",
    "\n",
    "        while True:\n",
    "\n",
    "            # Para ir limpiando la pantalla\n",
    "            clear_output(wait=True)\n",
    "            \n",
    "            #display(qcEn.draw())\n",
    "\n",
    "            print(f\"Condición de victoria: {winCond}\\n\")\n",
    "\n",
    "            print(f\"Jugador: {playerName}\\n\")\n",
    "            print(f\"HP: {HP}/{HPMax}\")\n",
    "\n",
    "            qcPl=player_choice(qcEn,n,MP,MPMax)\n",
    "            qcT=qcPl+qcEn\n",
    "\n",
    "            display(qcT.draw())\n",
    "\n",
    "            #result, count, qsphere=proceed(qcT)\n",
    "            result=proceed(qcT)\n",
    "\n",
    "            # depuración\n",
    "            print(f\"Tu resultado: {result}\\n\")\n",
    "\n",
    "\n",
    "            # VICTORY COND\n",
    "            if (abs(result)==winCond).all():\n",
    "                print('You won!')\n",
    "                score_stage=score_stage+100\n",
    "                break\n",
    "            else:\n",
    "                score_stage=score_stage-20\n",
    "                HP=HP-nlevels[n]\n",
    "                MP=MPMax\n",
    "                print(f'Enemies attack!You lost {nlevels[n]} HP...\\nKeep fighting? Y/N')\n",
    "                if str_control()=='Y':\n",
    "                    continue\n",
    "                else:\n",
    "                    break\n",
    "                    \n",
    "        score=score+score_stage\n",
    "        if score<0:\n",
    "            score=0\n",
    "            \n",
    "        if HP==0:\n",
    "            print('You were slain...')\n",
    "            break\n",
    "        battles=battles+1\n",
    "        print('Proceed further? Y/N')\n",
    "        if str_control()=='N':\n",
    "            break\n",
    "        else:\n",
    "            if MP+nlevels[n]>MPMax:\n",
    "                MP=MPMax\n",
    "            else:\n",
    "                MP=MP+nlevels[n]\n",
    "\n",
    "    # Fin del juego\n",
    "    print(\"La exploración al abismo cuántico ha finalizado. \\nResultados:\")\n",
    "    print(f\"Jugador: {playerName}\\nPuntuación: {score}\")\n",
    "    \n",
    "    scoreboard=open(f\"scoreboard.txt\",\"a\")\n",
    "\n",
    "    scoreboard.write(playerName+','+str(score)+','+str(battles)+'\\n')\n",
    "    #np.genfromtxt('col.txt',dtype='str')\n",
    "    scoreboard.close()\n",
    "\n",
    "    #np.genfromtxt(scoreboard,delimiter=\",\",dtype='str') "
   ]
  },
  {
   "cell_type": "code",
   "execution_count": 22,
   "id": "75595ad9-7090-4c83-8899-5376a3d181fa",
   "metadata": {},
   "outputs": [],
   "source": [
    "# File opening\n",
    "from io import open \n",
    "scoreboard=open(f\"scoreboard.txt\",\"a\")\n",
    "scoreboard.write('123\\n')\n",
    "#np.genfromtxt('col.txt',dtype='str')\n",
    "scoreboard.close()"
   ]
  },
  {
   "cell_type": "code",
   "execution_count": 2,
   "id": "c89f13a2-b14b-4a34-aa10-c13bce500eb2",
   "metadata": {},
   "outputs": [
    {
     "name": "stdout",
     "output_type": "stream",
     "text": [
      "\u001b[1;32m Welcome to QuantaAbyss.\n",
      "Select a gamemode writing it below:\n",
      " \\i 'story', 'arcade', 'shop', 'scoreboard'\n",
      "0 Write \\i 'quit'0 to leave\n",
      "Traceback \u001b[1;36m(most recent call last)\u001b[0m:\n",
      "  File \u001b[0;32m\"/tmp/ipykernel_637/1219223403.py\"\u001b[0m, line \u001b[0;32m19\u001b[0m, in \u001b[0;35m<module>\u001b[0m\n",
      "    QUANTA_ABYSS()\n",
      "\u001b[1;36m  File \u001b[1;32m\"/tmp/ipykernel_637/1219223403.py\"\u001b[1;36m, line \u001b[1;32m7\u001b[1;36m, in \u001b[1;35mQUANTA_ABYSS\u001b[1;36m\u001b[0m\n",
      "\u001b[1;33m    choice=str_control()\u001b[0m\n",
      "\u001b[1;31mNameError\u001b[0m\u001b[1;31m:\u001b[0m name 'str_control' is not defined\n",
      "\n",
      "Use %tb to get the full traceback.\n"
     ]
    },
    {
     "data": {
      "text/html": [
       "\n",
       "<style>\n",
       ".button {\n",
       "  border: none;\n",
       "  color: white;\n",
       "  padding: 4px 8px;\n",
       "  text-align: center;\n",
       "  text-decoration: none;\n",
       "  display: inline-block;\n",
       "  font-size: 12px;\n",
       "  margin: 4px 2px;\n",
       "  transition-duration: 0.2s;\n",
       "  cursor: pointer;\n",
       "}\n",
       ".iqx-button {\n",
       "  background-color: #0f62fe; \n",
       "  color: white; \n",
       "}\n",
       ".iqx-button:hover {\n",
       "  background-color: #0043ce;\n",
       "  color: white;\n",
       "}\n",
       "</style>\n",
       "<a href=\"https://stackoverflow.com/search?q=NameError: name 'str_control' is not defined\" target='_blank'><button class='button iqx-button'>Search for solution online</button></a>\n"
      ],
      "text/plain": [
       "<IPython.core.display.HTML object>"
      ]
     },
     "metadata": {},
     "output_type": "display_data"
    }
   ],
   "source": [
    "# MAIN GAME (PLEASE EXECUTE THIS CELL)\n",
    "def QUANTA_ABYSS():\n",
    "    modes={'story': 1, 'arcade': 2, 'shop': 3, 'scoreboard': 4, 'quit': 5}\n",
    "\n",
    "    print(\"\\033[1;32m Welcome to QuantaAbyss.\")\n",
    "    print(\"Select a gamemode writing it below:\\n \\i 'story', 'arcade', 'shop', 'scoreboard'\\n \\b0 Write \\i 'quit' \\b0 to leave\")\n",
    "    choice=str_control()\n",
    "    if modes[choice]==1:\n",
    "        story()\n",
    "    elif modes[choice]==2:\n",
    "        arcade()\n",
    "    elif modes[choice]==3:\n",
    "        shop()\n",
    "    elif modes[choice]==4:\n",
    "        scoreboard()\n",
    "        \n",
    " \n",
    "\n",
    "QUANTA_ABYSS()"
   ]
  },
  {
   "cell_type": "code",
   "execution_count": 1,
   "id": "7756a6b7-0792-4edb-939f-b1138da4ba1b",
   "metadata": {},
   "outputs": [
    {
     "name": "stdout",
     "output_type": "stream",
     "text": [
      "\u001b[1;32m This text is Bright Green  \n",
      "\n"
     ]
    }
   ],
   "source": [
    "print(\"\\033[1;32m This text is Bright Green  \\n\") "
   ]
  },
  {
   "cell_type": "code",
   "execution_count": 12,
   "id": "e6c949b9-0788-4584-ba17-fad8c445eb7d",
   "metadata": {},
   "outputs": [
    {
     "name": "stdout",
     "output_type": "stream",
     "text": [
      "Condición de victoria: [0.+0.j 0.+0.j 0.+0.j 1.+0.j]\n",
      "\n",
      "Jugador: Daniel\n",
      "\n",
      "HP: 5/5\n",
      "MP: 5/5\n"
     ]
    },
    {
     "data": {
      "image/png": "[encoded data removed]",
      "text/plain": [
       "<Figure size 267.052x204.68 with 1 Axes>"
      ]
     },
     "metadata": {},
     "output_type": "display_data"
    },
    {
     "name": "stdout",
     "output_type": "stream",
     "text": [
      "Técnicas disponibles:\n",
      "dict_keys(['X', 'H', 'Z', 'END'])\n"
     ]
    },
    {
     "name": "stdin",
     "output_type": "stream",
     "text": [
      "\n",
      "Please introduce a name:  X\n",
      "\n",
      "Please introduce an int number:  0\n"
     ]
    },
    {
     "name": "stdout",
     "output_type": "stream",
     "text": [
      "MP: 4/5\n"
     ]
    },
    {
     "data": {
      "image/png": "[encoded data removed]",
      "text/plain": [
       "<Figure size 327.252x204.68 with 1 Axes>"
      ]
     },
     "metadata": {},
     "output_type": "display_data"
    },
    {
     "name": "stdout",
     "output_type": "stream",
     "text": [
      "Técnicas disponibles:\n",
      "dict_keys(['X', 'H', 'Z', 'END'])\n"
     ]
    },
    {
     "name": "stdin",
     "output_type": "stream",
     "text": [
      "\n",
      "Please introduce a name:  Y\n"
     ]
    },
    {
     "name": "stdout",
     "output_type": "stream",
     "text": [
      "Traceback \u001b[1;36m(most recent call last)\u001b[0m:\n",
      "  File \u001b[0;32m\"/tmp/ipykernel_767/3653708136.py\"\u001b[0m, line \u001b[0;32m1\u001b[0m, in \u001b[0;35m<module>\u001b[0m\n",
      "    battle()\n",
      "  File \u001b[0;32m\"/tmp/ipykernel_767/642121853.py\"\u001b[0m, line \u001b[0;32m63\u001b[0m, in \u001b[0;35mbattle\u001b[0m\n",
      "    qcPl=player_choice(qcEn,n,MP,MPMax)\n",
      "\u001b[1;36m  File \u001b[1;32m\"/tmp/ipykernel_767/3038355724.py\"\u001b[1;36m, line \u001b[1;32m33\u001b[1;36m, in \u001b[1;35mplayer_choice\u001b[1;36m\u001b[0m\n",
      "\u001b[1;33m    if MP-gates[select][1]<0:\u001b[0m\n",
      "\u001b[1;31mKeyError\u001b[0m\u001b[1;31m:\u001b[0m 'Y'\n",
      "\n",
      "Use %tb to get the full traceback.\n"
     ]
    },
    {
     "data": {
      "text/html": [
       "\n",
       "<style>\n",
       ".button {\n",
       "  border: none;\n",
       "  color: white;\n",
       "  padding: 4px 8px;\n",
       "  text-align: center;\n",
       "  text-decoration: none;\n",
       "  display: inline-block;\n",
       "  font-size: 12px;\n",
       "  margin: 4px 2px;\n",
       "  transition-duration: 0.2s;\n",
       "  cursor: pointer;\n",
       "}\n",
       ".iqx-button {\n",
       "  background-color: #0f62fe; \n",
       "  color: white; \n",
       "}\n",
       ".iqx-button:hover {\n",
       "  background-color: #0043ce;\n",
       "  color: white;\n",
       "}\n",
       "</style>\n",
       "<a href=\"https://stackoverflow.com/search?q=KeyError: Y\" target='_blank'><button class='button iqx-button'>Search for solution online</button></a>\n"
      ],
      "text/plain": [
       "<IPython.core.display.HTML object>"
      ]
     },
     "metadata": {},
     "output_type": "display_data"
    }
   ],
   "source": [
    "battle()"
   ]
  },
  {
   "cell_type": "code",
   "execution_count": null,
   "id": "0b58d49c-6fe3-4056-9228-a8802d02498d",
   "metadata": {},
   "outputs": [],
   "source": []
  },
  {
   "cell_type": "code",
   "execution_count": null,
   "id": "889ededd-fa82-4dce-bc8c-8921d5ecc9f6",
   "metadata": {},
   "outputs": [],
   "source": []
  },
  {
   "cell_type": "code",
   "execution_count": null,
   "id": "5788a9c1-15c7-44fc-bfb4-c0a0542076d8",
   "metadata": {},
   "outputs": [],
   "source": []
  }
 ],
 "metadata": {
  "kernelspec": {
   "display_name": "Qiskit v0.31.0 (ipykernel)",
   "language": "python",
   "name": "python3"
  },
  "language_info": {
   "codemirror_mode": {
    "name": "ipython",
    "version": 3
   },
   "file_extension": ".py",
   "mimetype": "text/x-python",
   "name": "python",
   "nbconvert_exporter": "python",
   "pygments_lexer": "ipython3",
   "version": "3.8.10"
  },
  "widgets": {
   "application/vnd.jupyter.widget-state+json": {
    "state": {
     "072795da23d842d4b90da6033662d3c2": {
      "model_module": "@jupyter-widgets/base",
      "model_module_version": "1.2.0",
      "model_name": "LayoutModel",
      "state": {
       "width": "190px"
      }
     },
     "08ce5ac425034444b7d8073f0edb2293": {
      "model_module": "@jupyter-widgets/base",
      "model_module_version": "1.2.0",
      "model_name": "LayoutModel",
      "state": {
       "grid_area": "right",
       "padding": "0px 0px 0px 0px",
       "width": "70px"
      }
     },
     "44e1b554915a457f87b9f6459d6cb479": {
      "model_module": "@jupyter-widgets/controls",
      "model_module_version": "1.5.0",
      "model_name": "DescriptionStyleModel",
      "state": {
       "description_width": ""
      }
     },
     "50218d5606fd462a81f0993b033621d3": {
      "model_module": "@jupyter-widgets/controls",
      "model_module_version": "1.5.0",
      "model_name": "DescriptionStyleModel",
      "state": {
       "description_width": ""
      }
     },
     "510959c1606647f6a73fbdc4cf49b714": {
      "model_module": "@jupyter-widgets/controls",
      "model_module_version": "1.5.0",
      "model_name": "GridBoxModel",
      "state": {
       "children": [
        "IPY_MODEL_7940037bdba34b438de7614c4b475904"
       ],
       "layout": "IPY_MODEL_bcf81c58417147eb90bbff36a0c58f50"
      }
     },
     "53465535fdcf451fabf34c8811022fb5": {
      "model_module": "@jupyter-widgets/controls",
      "model_module_version": "1.5.0",
      "model_name": "HTMLModel",
      "state": {
       "layout": "IPY_MODEL_8916eb5f5fba431985660368cc1ebab3",
       "style": "IPY_MODEL_a251fef2c2214da7a49ca6e13e3127b4",
       "value": "<h5>Message</h5>"
      }
     },
     "7042c2ce53d8412fb340457484ed948b": {
      "model_module": "@jupyter-widgets/base",
      "model_module_version": "1.2.0",
      "model_name": "LayoutModel",
      "state": {
       "width": "145px"
      }
     },
     "7940037bdba34b438de7614c4b475904": {
      "model_module": "@jupyter-widgets/controls",
      "model_module_version": "1.5.0",
      "model_name": "ButtonModel",
      "state": {
       "button_style": "primary",
       "description": "Clear",
       "layout": "IPY_MODEL_08ce5ac425034444b7d8073f0edb2293",
       "style": "IPY_MODEL_8ae22d0519514c93a453009bf247d748"
      }
     },
     "7a90fc5abdfe44659a395cb48fbe91db": {
      "model_module": "@jupyter-widgets/base",
      "model_module_version": "1.2.0",
      "model_name": "LayoutModel",
      "state": {
       "margin": "0px 0px 10px 0px"
      }
     },
     "7bdd844aaceb43ed8fe6d80a5ce1cca3": {
      "model_module": "@jupyter-widgets/controls",
      "model_module_version": "1.5.0",
      "model_name": "HBoxModel",
      "state": {
       "children": [
        "IPY_MODEL_7dca15315ab1477e82895c2fb0350f3d",
        "IPY_MODEL_9a01ded0d6434cc68607682bd74d3876",
        "IPY_MODEL_8d64990dbb814b9cbc547f3cb6c86399",
        "IPY_MODEL_e9ae61a0d76942e29079cd2c8301beae",
        "IPY_MODEL_53465535fdcf451fabf34c8811022fb5"
       ],
       "layout": "IPY_MODEL_d1dd2cfaef774e628a4a23237329fe0d"
      }
     },
     "7dca15315ab1477e82895c2fb0350f3d": {
      "model_module": "@jupyter-widgets/controls",
      "model_module_version": "1.5.0",
      "model_name": "HTMLModel",
      "state": {
       "layout": "IPY_MODEL_072795da23d842d4b90da6033662d3c2",
       "style": "IPY_MODEL_50218d5606fd462a81f0993b033621d3",
       "value": "<h5>Job ID</h5>"
      }
     },
     "8916eb5f5fba431985660368cc1ebab3": {
      "model_module": "@jupyter-widgets/base",
      "model_module_version": "1.2.0",
      "model_name": "LayoutModel",
      "state": {}
     },
     "8ae22d0519514c93a453009bf247d748": {
      "model_module": "@jupyter-widgets/controls",
      "model_module_version": "1.5.0",
      "model_name": "ButtonStyleModel",
      "state": {}
     },
     "8d64990dbb814b9cbc547f3cb6c86399": {
      "model_module": "@jupyter-widgets/controls",
      "model_module_version": "1.5.0",
      "model_name": "HTMLModel",
      "state": {
       "layout": "IPY_MODEL_ad490b5c2a7f423ba8a47da9f7fb6b9c",
       "style": "IPY_MODEL_44e1b554915a457f87b9f6459d6cb479",
       "value": "<h5>Status</h5>"
      }
     },
     "97ba4ea9074c4dfe8b748b0618c0f394": {
      "model_module": "@jupyter-widgets/base",
      "model_module_version": "1.2.0",
      "model_name": "LayoutModel",
      "state": {
       "width": "70px"
      }
     },
     "9a01ded0d6434cc68607682bd74d3876": {
      "model_module": "@jupyter-widgets/controls",
      "model_module_version": "1.5.0",
      "model_name": "HTMLModel",
      "state": {
       "layout": "IPY_MODEL_7042c2ce53d8412fb340457484ed948b",
       "style": "IPY_MODEL_bccb617c9d054640985116577d2c3264",
       "value": "<h5>Backend</h5>"
      }
     },
     "a251fef2c2214da7a49ca6e13e3127b4": {
      "model_module": "@jupyter-widgets/controls",
      "model_module_version": "1.5.0",
      "model_name": "DescriptionStyleModel",
      "state": {
       "description_width": ""
      }
     },
     "a88b1f7fc4074bb184dca208e12bf113": {
      "model_module": "@jupyter-widgets/controls",
      "model_module_version": "1.5.0",
      "model_name": "DescriptionStyleModel",
      "state": {
       "description_width": ""
      }
     },
     "ad490b5c2a7f423ba8a47da9f7fb6b9c": {
      "model_module": "@jupyter-widgets/base",
      "model_module_version": "1.2.0",
      "model_name": "LayoutModel",
      "state": {
       "width": "95px"
      }
     },
     "bccb617c9d054640985116577d2c3264": {
      "model_module": "@jupyter-widgets/controls",
      "model_module_version": "1.5.0",
      "model_name": "DescriptionStyleModel",
      "state": {
       "description_width": ""
      }
     },
     "bcf81c58417147eb90bbff36a0c58f50": {
      "model_module": "@jupyter-widgets/base",
      "model_module_version": "1.2.0",
      "model_name": "LayoutModel",
      "state": {
       "grid_template_areas": "\n                                       \". . . . right \"\n                                        ",
       "grid_template_columns": "20% 20% 20% 20% 20%",
       "width": "100%"
      }
     },
     "c389f1386e194d7bac07250bb6dac223": {
      "model_module": "@jupyter-widgets/controls",
      "model_module_version": "1.5.0",
      "model_name": "DescriptionStyleModel",
      "state": {
       "description_width": ""
      }
     },
     "d1dd2cfaef774e628a4a23237329fe0d": {
      "model_module": "@jupyter-widgets/base",
      "model_module_version": "1.2.0",
      "model_name": "LayoutModel",
      "state": {
       "margin": "0px 0px 0px 37px",
       "width": "600px"
      }
     },
     "dd6983a9e4b941ef8b14c41c2d5808a7": {
      "model_module": "@jupyter-widgets/controls",
      "model_module_version": "1.5.0",
      "model_name": "HTMLModel",
      "state": {
       "layout": "IPY_MODEL_7a90fc5abdfe44659a395cb48fbe91db",
       "style": "IPY_MODEL_c389f1386e194d7bac07250bb6dac223",
       "value": "<p style='font-family: IBM Plex Sans, Arial, Helvetica, sans-serif; font-size: 20px; font-weight: medium;'>Circuit Properties</p>"
      }
     },
     "e9ae61a0d76942e29079cd2c8301beae": {
      "model_module": "@jupyter-widgets/controls",
      "model_module_version": "1.5.0",
      "model_name": "HTMLModel",
      "state": {
       "layout": "IPY_MODEL_97ba4ea9074c4dfe8b748b0618c0f394",
       "style": "IPY_MODEL_a88b1f7fc4074bb184dca208e12bf113",
       "value": "<h5>Queue</h5>"
      }
     }
    },
    "version_major": 2,
    "version_minor": 0
   }
  }
 },
 "nbformat": 4,
 "nbformat_minor": 5
}
